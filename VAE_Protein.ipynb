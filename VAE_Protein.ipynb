{
  "cells": [
    {
      "cell_type": "code",
      "execution_count": 1,
      "metadata": {
        "colab": {
          "base_uri": "https://localhost:8080/"
        },
        "id": "cd8e462a",
        "outputId": "a662876b-87b6-41d5-c95b-d2c40d0edf0f"
      },
      "outputs": [
        {
          "output_type": "stream",
          "name": "stdout",
          "text": [
            "Collecting biopython\n",
            "  Downloading biopython-1.79-cp37-cp37m-manylinux_2_5_x86_64.manylinux1_x86_64.whl (2.3 MB)\n",
            "\u001b[K     |████████████████████████████████| 2.3 MB 18.2 MB/s \n",
            "\u001b[?25hRequirement already satisfied: numpy in /usr/local/lib/python3.7/dist-packages (from biopython) (1.19.5)\n",
            "Installing collected packages: biopython\n",
            "Successfully installed biopython-1.79\n",
            "--2022-01-19 10:52:53--  https://sid.erda.dk/share_redirect/a5PTfl88w0/BLAT_ECOLX_1_b0.5_labeled.fasta\n",
            "Resolving sid.erda.dk (sid.erda.dk)... 130.225.104.13\n",
            "Connecting to sid.erda.dk (sid.erda.dk)|130.225.104.13|:443... connected.\n",
            "HTTP request sent, awaiting response... 200 OK\n",
            "Length: 2441075 (2.3M)\n",
            "Saving to: ‘BLAT_ECOLX_1_b0.5_labeled.fasta’\n",
            "\n",
            "BLAT_ECOLX_1_b0.5_l 100%[===================>]   2.33M  3.36MB/s    in 0.7s    \n",
            "\n",
            "2022-01-19 10:52:54 (3.36 MB/s) - ‘BLAT_ECOLX_1_b0.5_labeled.fasta’ saved [2441075/2441075]\n",
            "\n",
            "--2022-01-19 10:52:54--  https://sid.erda.dk/share_redirect/a5PTfl88w0/BLAT_ECOLX_Ranganathan2015.csv\n",
            "Resolving sid.erda.dk (sid.erda.dk)... 130.225.104.13\n",
            "Connecting to sid.erda.dk (sid.erda.dk)|130.225.104.13|:443... connected.\n",
            "HTTP request sent, awaiting response... 200 OK\n",
            "Length: 1216640 (1.2M) [text/csv]\n",
            "Saving to: ‘BLAT_ECOLX_Ranganathan2015.csv’\n",
            "\n",
            "BLAT_ECOLX_Ranganat 100%[===================>]   1.16M  1.94MB/s    in 0.6s    \n",
            "\n",
            "2022-01-19 10:52:55 (1.94 MB/s) - ‘BLAT_ECOLX_Ranganathan2015.csv’ saved [1216640/1216640]\n",
            "\n"
          ]
        }
      ],
      "source": [
        "import os\n",
        "import re\n",
        "import numpy as np\n",
        "import torch\n",
        "import torch.nn.functional as F\n",
        "import pandas as pd\n",
        "import keras\n",
        "import tensorflow as tf\n",
        "from __future__ import print_function\n",
        "import argparse\n",
        "import torch.utils.data\n",
        "from torch import nn, optim\n",
        "from torch.nn import functional as F\n",
        "from torchvision import datasets, transforms\n",
        "from torchvision.utils import save_image\n",
        "from scipy import stats\n",
        "import matplotlib.pyplot as plt\n",
        "\n",
        "# FASTA parser requires Biopython\n",
        "try:\n",
        "    from Bio import SeqIO\n",
        "except:\n",
        "    !pip install biopython\n",
        "    from Bio import SeqIO\n",
        "    \n",
        "# Retrieve protein alignment file\n",
        "if not os.path.exists('BLAT_ECOLX_1_b0.5_labeled.fasta'):\n",
        "    !wget https://sid.erda.dk/share_redirect/a5PTfl88w0/BLAT_ECOLX_1_b0.5_labeled.fasta\n",
        "        \n",
        "# Retrieve file with experimental measurements\n",
        "if not os.path.exists('BLAT_ECOLX_Ranganathan2015.csv'):\n",
        "    !wget https://sid.erda.dk/share_redirect/a5PTfl88w0/BLAT_ECOLX_Ranganathan2015.csv\n",
        "        \n"
      ],
      "id": "cd8e462a"
    },
    {
      "cell_type": "markdown",
      "metadata": {
        "id": "9B5y2lQ78p4a"
      },
      "source": [
        "Following Code processes the Data and loads the two respective data loaders\n"
      ],
      "id": "9B5y2lQ78p4a"
    },
    {
      "cell_type": "code",
      "execution_count": 2,
      "metadata": {
        "id": "02a0af68"
      },
      "outputs": [],
      "source": [
        "# Mapping from amino acids to integers\n",
        "aa1_to_index = {'A': 0, 'C': 1, 'D': 2, 'E': 3, 'F': 4, 'G': 5, 'H': 6,\n",
        "                'I': 7, 'K': 8, 'L': 9, 'M': 10, 'N': 11, 'P': 12,\n",
        "                'Q': 13, 'R': 14, 'S': 15, 'T': 16, 'V': 17, 'W': 18,\n",
        "                'Y': 19, 'X':20, 'Z': 21, '-': 22}\n",
        "aa1 = \"ACDEFGHIKLMNPQRSTVWYXZ-\"\n",
        "\n",
        "phyla = ['Acidobacteria', 'Actinobacteria', 'Bacteroidetes',\n",
        "         'Chloroflexi', 'Cyanobacteria', 'Deinococcus-Thermus',\n",
        "         'Firmicutes', 'Fusobacteria', 'Proteobacteria', 'Other']\n",
        "\n",
        "# Options\n",
        "batch_size = 16\n",
        "\n",
        "def get_data(data_filename, calc_weights=False, weights_similarity_threshold=0.8):\n",
        "\n",
        "    '''Create dataset from FASTA filename'''\n",
        "    ids = []\n",
        "    labels = []\n",
        "    seqs = []\n",
        "    label_re = re.compile(r'\\[([^\\]]*)\\]')\n",
        "    for record in SeqIO.parse(data_filename, \"fasta\"):\n",
        "        ids.append(record.id)       \n",
        "        seqs.append(np.array([(aa1_to_index[aa]) for aa in str(record.seq).upper().replace('.', '-')]))\n",
        "        \n",
        "        label = label_re.search(record.description).group(1)\n",
        "        # Only use most common classes\n",
        "        if label not in phyla:\n",
        "            label = 'Other'\n",
        "        labels.append(label)\n",
        "                \n",
        "    seqs_int = torch.from_numpy(np.vstack(seqs))\n",
        "    seqs = torch.from_numpy(np.vstack(seqs)).float()\n",
        "    \n",
        "    labels = np.array(labels)\n",
        "    \n",
        "    phyla_lookup_table, phyla_idx = np.unique(labels, return_inverse=True)\n",
        "\n",
        "    # Normal, unscaled dataset in the range of 0 - 22\n",
        "    dataset_integers = torch.utils.data.TensorDataset(*[seqs_int, torch.from_numpy(phyla_idx)])\n",
        "    \n",
        "    weights = None\n",
        "    if calc_weights is not False:\n",
        "\n",
        "        # Experiencing memory issues on colab for this code because pytorch doesn't\n",
        "        # allow one_hot directly to bool. Splitting in two and then merging.\n",
        "        # one_hot = F.one_hot(seqs.long()).to('cuda' if torch.cuda.is_available() else 'cpu')\n",
        "        one_hot1 = F.one_hot(seqs[:len(seqs)//2].long()).bool()\n",
        "        one_hot2 = F.one_hot(seqs[len(seqs)//2:].long()).bool()\n",
        "        one_hot = torch.cat([one_hot1, one_hot2]).to('cuda' if torch.cuda.is_available() else 'cpu')\n",
        "\n",
        "        assert(len(seqs) == len(one_hot))\n",
        "        del one_hot1\n",
        "        del one_hot2\n",
        "        one_hot[seqs>19] = 0\n",
        "\n",
        "        weights = []\n",
        "        weight_batch_size = 1000\n",
        "        \n",
        "        # Correct format\n",
        "        flat_one_hot = one_hot.flatten(1).float()\n",
        "        dataset = torch.utils.data.TensorDataset(*[flat_one_hot, torch.from_numpy(phyla_idx)])\n",
        "\n",
        "        for i in range(seqs.size(0) // weight_batch_size + 1):\n",
        "            x = flat_one_hot[i * weight_batch_size : (i + 1) * weight_batch_size]\n",
        "            similarities = torch.mm(x, flat_one_hot.T)\n",
        "            lengths = (seqs[i * weight_batch_size : (i + 1) * weight_batch_size] <=19).sum(1).unsqueeze(-1).to('cuda' if torch.cuda.is_available() else 'cpu')\n",
        "            w = 1.0 / (similarities / lengths).gt(weights_similarity_threshold).sum(1).float()\n",
        "            weights.append(w)\n",
        "            \n",
        "        weights = torch.cat(weights)\n",
        "        neff = weights.sum()\n",
        "\n",
        "\n",
        "    return dataset, weights, dataset_integers\n",
        "\n",
        "\n",
        "dataset, weights, dataset_integers = get_data('BLAT_ECOLX_1_b0.5_labeled.fasta', calc_weights=True)\n",
        "\n",
        "sampler = torch.utils.data.sampler.WeightedRandomSampler(weights, len(weights))\n",
        "\n",
        "# Creating two different dataloader\n",
        "# dataloader_with_weights uses the sampler to implement the weighting\n",
        "dataloader_no_weights = torch.utils.data.DataLoader(dataset, batch_size=batch_size, shuffle=True)\n",
        "dataloader_with_weights = torch.utils.data.DataLoader(dataset, batch_size=batch_size, shuffle=False, sampler=sampler)\n"
      ],
      "id": "02a0af68"
    },
    {
      "cell_type": "markdown",
      "metadata": {
        "id": "_-GFpMXc-RBN"
      },
      "source": [
        "## Task 1: Creating the VAE\n"
      ],
      "id": "_-GFpMXc-RBN"
    },
    {
      "cell_type": "code",
      "execution_count": 3,
      "metadata": {
        "id": "EVdHRRRtuTQZ"
      },
      "outputs": [],
      "source": [
        "# Own implementation of the variational autoencoder : \n",
        "\n",
        "torch.manual_seed(1)\n",
        "cuda2 = False\n",
        "device = torch.device(\"cuda\" if cuda2 else \"cpu\")\n",
        "kwargs = {'num_workers': 1, 'pin_memory': True} if cuda2 else {}\n",
        "\n",
        "epochs2 = 2 # About 20 is sufficent\n",
        "\n",
        "# Define VAE model\n",
        "class VAE(nn.Module):\n",
        "    def __init__(self):\n",
        "        super(VAE, self).__init__()\n",
        "        # Since we use one-hot-encoding, the input dimension is 23 * 263 = 6049\n",
        "        self.fc1 = nn.Linear(6049, 400)\n",
        "        self.fc1a = nn.Linear(400, 100)\n",
        "        self.fc21 = nn.Linear(100, 2) # 20 -> 2\n",
        "        self.fc22 = nn.Linear(100, 2) # 20 -> 2\n",
        "        self.fc3 = nn.Linear(2, 100) # 20 -> 2\n",
        "        self.fc3a = nn.Linear(100, 400)\n",
        "        self.fc4 = nn.Linear(400, 6049)\n",
        "\n",
        "    def encode(self, x):\n",
        "        h1 = F.relu(self.fc1(x))\n",
        "        h2 = F.relu(self.fc1a(h1))\n",
        "        # Using torch.distributions\n",
        "        return torch.distributions.normal.Normal(loc = self.fc21(h2), scale = torch.exp(0.5*self.fc22(h2)))\n",
        "\n",
        "    def decode(self, z):\n",
        "        h3 = F.relu(self.fc3(z))\n",
        "        h4 = F.relu(self.fc3a(h3))\n",
        "        return torch.sigmoid(self.fc4(h4))\n",
        "\n",
        "    def forward(self, x):\n",
        "        gauss = self.encode(x.view(-1, 6049))\n",
        "        # We sample z from the latent space using a Gaussian distribution\n",
        "        z = gauss.rsample()\n",
        "        return self.decode(z), gauss.mean, gauss.stddev\n",
        "\n",
        "# Reconstruction + KL divergence losses summed over all elements and batch\n",
        "def loss_function(recon_x, x, mu, logvar):\n",
        "    # Using Binary Cross Entropy as the loss function\n",
        "    BCE = F.binary_cross_entropy(recon_x, x.view(-1, 6049), reduction='sum')\n",
        "    q_z = torch.distributions.normal.Normal(loc = mu, scale = logvar)\n",
        "    p_z = torch.distributions.normal.Normal(torch.zeros_like(q_z.loc), torch.ones_like(q_z.scale))\n",
        "    KLD = torch.distributions.kl_divergence(q_z, p_z).sum()\n",
        "    return BCE + KLD # -ELBO\n",
        "\n",
        "\n",
        "def train(epoch,model, weights_bool):\n",
        "    model.train()\n",
        "    train_loss = 0\n",
        "    if weights_bool:\n",
        "      dataloader = dataloader_with_weights\n",
        "    else:\n",
        "      dataloader = dataloader_no_weights\n",
        "    \n",
        "    for batch_idx, (data, _) in enumerate(dataloader):\n",
        "        data = data.to(device)\n",
        "        optimizer.zero_grad()\n",
        "        recon_batch, mu, logvar = model(data)\n",
        "        loss = loss_function(recon_batch, data, mu, logvar)\n",
        "        loss.backward()\n",
        "        train_loss += loss.item()\n",
        "        optimizer.step()\n",
        "    print('====> Epoch: {} Average loss: {:.4f}'.format(\n",
        "          epoch, train_loss / len(dataloader.dataset)))\n",
        "\n",
        "\n"
      ],
      "id": "EVdHRRRtuTQZ"
    },
    {
      "cell_type": "code",
      "execution_count": 4,
      "metadata": {
        "colab": {
          "base_uri": "https://localhost:8080/"
        },
        "id": "CjBuXrPF_HN1",
        "outputId": "addb7922-883f-430b-9f3c-6838d1a6a2b6"
      },
      "outputs": [
        {
          "output_type": "stream",
          "name": "stdout",
          "text": [
            "Base-model\n",
            "====> Epoch: 1 Average loss: 626.6815\n",
            "====> Epoch: 2 Average loss: 461.6168\n",
            "Weighted-model\n",
            "====> Epoch: 1 Average loss: 719.0540\n",
            "====> Epoch: 2 Average loss: 581.5549\n"
          ]
        }
      ],
      "source": [
        "# Training a baseline model (task 1 - 3)\n",
        "print(\"Base-model\")\n",
        "model_no_weights = VAE().to(device)\n",
        "optimizer = optim.Adam(model_no_weights.parameters(), lr=1e-3)\n",
        "for epoch in range(1, epochs2 + 1):\n",
        "    train(epoch, model_no_weights, False)\n",
        "\n",
        "print(\"Weighted-model\")\n",
        "# Training a weighted model (task 4)\n",
        "model_weights = VAE().to(device)\n",
        "optimizer = optim.Adam(model_weights.parameters(), lr=1e-3)\n",
        "for epoch in range(1, epochs2 + 1):\n",
        "    train(epoch, model_weights, True)\n",
        "  "
      ],
      "id": "CjBuXrPF_HN1"
    },
    {
      "cell_type": "markdown",
      "metadata": {
        "id": "g79IFjmL-JYc"
      },
      "source": [
        "## Task 2: Plotting the latent space"
      ],
      "id": "g79IFjmL-JYc"
    },
    {
      "cell_type": "code",
      "execution_count": 5,
      "metadata": {
        "id": "UX66QBC9kWcd"
      },
      "outputs": [],
      "source": [
        "# M = 7844, since the dataset feature 7844 rows\n",
        "# N = 2, since we set the latent space = 2\n",
        "def create_results(model, weights_bool):\n",
        "  results = torch.zeros((7844,2))\n",
        "  all_labels = torch.empty(0)\n",
        "  l = 0\n",
        "  if weights_bool:\n",
        "    dataloader = dataloader_with_weights\n",
        "  else:\n",
        "    dataloader = dataloader_no_weights\n",
        "  for x,y in dataloader:\n",
        "    all_labels = torch.cat((all_labels, y))\n",
        "    for sequence in x:\n",
        "      transformed_sequence = model.encode(sequence).mean\n",
        "      results[l] = transformed_sequence\n",
        "      l += 1\n",
        "    group = all_labels\n",
        "  return results.detach().numpy(), group\n",
        "\n",
        "cdict = {0: 'black', 1: 'red', 2: 'blue', 3: 'green', 4: 'brown', \n",
        "         5: 'orange', 6: 'yellow', 7: 'magenta', 8: 'cyan', 9: 'purple'}\n",
        "\n",
        "\n",
        "def plot(results_for_plot,group, title):\n",
        "  scatter_x = results_for_plot[:,0]\n",
        "  scatter_y = results_for_plot[:,1]\n",
        "  fig, ax = plt.subplots()\n",
        "  for g in np.unique(group):\n",
        "      ix = np.where(group == g)\n",
        "      ax.scatter(scatter_x[ix], scatter_y[ix], c = cdict[g], label = phyla[int(g)], s = .1)\n",
        "  ax.legend(bbox_to_anchor=[1,1],markerscale = 10)\n",
        "  ax.set_xlabel('z_1')\n",
        "  ax.set_ylabel('z_2')\n",
        "  ax.set_title('β-lactamase')\n",
        "  plt.show()"
      ],
      "id": "UX66QBC9kWcd"
    },
    {
      "cell_type": "code",
      "execution_count": 6,
      "metadata": {
        "colab": {
          "base_uri": "https://localhost:8080/",
          "height": 296
        },
        "id": "36jNDaeI-NmU",
        "outputId": "adeb0f1c-782c-44ce-c382-8a21d4e5ae8e"
      },
      "outputs": [
        {
          "output_type": "display_data",
          "data": {
            "image/png": "[encoded data removed]",
            "text/plain": [
              "<Figure size 432x288 with 1 Axes>"
            ]
          },
          "metadata": {
            "needs_background": "light"
          }
        }
      ],
      "source": [
        "results_for_plot_weights,group = create_results(model_weights, True)\n",
        "plot(results_for_plot_weights,group, '')"
      ],
      "id": "36jNDaeI-NmU"
    },
    {
      "cell_type": "code",
      "execution_count": 7,
      "metadata": {
        "colab": {
          "base_uri": "https://localhost:8080/",
          "height": 296
        },
        "id": "fxtnDost-TKe",
        "outputId": "bd9f5d40-f60d-4c2f-f726-28a63d209fd0"
      },
      "outputs": [
        {
          "output_type": "display_data",
          "data": {
            "image/png": "[encoded data removed]",
            "text/plain": [
              "<Figure size 432x288 with 1 Axes>"
            ]
          },
          "metadata": {
            "needs_background": "light"
          }
        }
      ],
      "source": [
        "results_for_plot_no_weights,group = create_results(model_no_weights, False)\n",
        "plot(results_for_plot_no_weights,group, '')"
      ],
      "id": "fxtnDost-TKe"
    },
    {
      "cell_type": "code",
      "execution_count": 8,
      "metadata": {
        "id": "d0eeb48c"
      },
      "outputs": [],
      "source": [
        "def read_experimental_data(filename, alignment_data, measurement_col_name = '2500', sequence_offset=0):\n",
        "    '''Read experimental data from csv file, and check that amino acid match those \n",
        "       in the first sequence of the alignment.\n",
        "       \n",
        "       measurement_col_name specifies which column in the csv file contains the experimental \n",
        "       observation. In our case, this is the one called 2500.\n",
        "       \n",
        "       sequence_offset is used in case there is an overall offset between the\n",
        "       indices in the two files.\n",
        "       '''\n",
        "    \n",
        "    measurement_df = pd.read_csv(filename, delimiter=',', usecols=['mutant', measurement_col_name])\n",
        "    \n",
        "    wt_sequence, wt_label = alignment_data[0]\n",
        "    zero_index = None\n",
        "    \n",
        "    experimental_data = {}\n",
        "    for idx, entry in measurement_df.iterrows():\n",
        "        mutant_from, position, mutant_to = entry['mutant'][:1],int(entry['mutant'][1:-1]),entry['mutant'][-1:]  \n",
        "        \n",
        "        # Use index of first entry as offset (keep track of this in case \n",
        "        # there are index gaps in experimental data)\n",
        "        if zero_index is None:\n",
        "            zero_index = position\n",
        "            \n",
        "        # Corresponding position in our alignment\n",
        "        seq_position = position-zero_index+sequence_offset\n",
        "       \n",
        "        # Make sure that two two inputs agree on the indices: the \n",
        "        # amino acids in the first entry of the alignment should be \n",
        "        # identical to those in the experimental file.\n",
        "        \n",
        "        assert mutant_from == aa1[wt_sequence[seq_position]]  \n",
        "        \n",
        "        if seq_position not in experimental_data:\n",
        "            experimental_data[seq_position] = {}\n",
        "        \n",
        "        # Check that there is only a single experimental value for mutant\n",
        "        assert mutant_to not in experimental_data[seq_position]\n",
        "        \n",
        "        experimental_data[seq_position]['pos'] = seq_position\n",
        "        experimental_data[seq_position]['WT'] = mutant_from\n",
        "        experimental_data[seq_position][mutant_to] = entry[measurement_col_name]\n",
        "    \n",
        "    experimental_data = pd.DataFrame(experimental_data).transpose().set_index(['pos', 'WT'])\n",
        "    return experimental_data, wt_sequence\n",
        "        \n",
        "        \n",
        "experimental_data,wt_sequence = read_experimental_data(\"BLAT_ECOLX_Ranganathan2015.csv\", dataset_integers)\n",
        "\n"
      ],
      "id": "d0eeb48c"
    },
    {
      "cell_type": "markdown",
      "metadata": {
        "id": "qbQFjICAVENB"
      },
      "source": [
        "## 3. Calculating the Spearman-Value"
      ],
      "id": "qbQFjICAVENB"
    },
    {
      "cell_type": "code",
      "execution_count": 9,
      "metadata": {
        "id": "1d071fed"
      },
      "outputs": [],
      "source": [
        "# Creating a one-hot-encoding of the wildtype-sequence\n",
        "\n",
        "one_hot_wt1 = F.one_hot(wt_sequence[:len(wt_sequence)//2].long()).bool()\n",
        "one_hot_wt2 = F.one_hot(wt_sequence[len(wt_sequence)//2:].long()).bool()\n",
        "one_hot_wt = torch.cat([one_hot_wt1, one_hot_wt2]).to('cuda' if torch.cuda.is_available() else 'cpu')\n",
        "one_hot_wt = torch.cat((one_hot_wt,torch.zeros(263,3)), 1).flatten(0)\n",
        "\n",
        "def compute_spearman(model, iterations):\n",
        "  # For each of the entries in the dataframe above, you should calculate\n",
        "  # the corresponding difference in ELBO from your VAE, and then finally\n",
        "  # calculate a Spearman correlation between the two.\n",
        "\n",
        "  # Creating a matrix which stores all our elbo values \n",
        "  # which we retrieve from our VAE for different mutations \n",
        "  elbo_matrix = np.zeros([263, 23]) \n",
        "\n",
        "  # Calculating the initial_elbo of our wildtype sequence\n",
        "  recon_batch, mu, logvar = model(one_hot_wt)\n",
        "  elbo_initial_sequence = loss_function(recon_batch, one_hot_wt, mu, logvar)\n",
        "\n",
        "  i = 0\n",
        "  # You can iterate over all experimental values like this:\n",
        "  for (position, mutant_from), row in experimental_data.iterrows():\n",
        "      j =0\n",
        "      #print(position, mutant_from)   # mutant from is the wild type (wt)\n",
        "      for mutant_to, exp_value in row.iteritems():\n",
        "\n",
        "          # We swap a character to create our mutation. \n",
        "          # Then we rerun the model \n",
        "          # and finally compute the corresponding elbo.\n",
        "\n",
        "          mutation_at_one_position = torch.zeros(23)\n",
        "          mutation_at_one_position[[aa1_to_index[mutant_to]]] = 1\n",
        "          sequence = torch.cat((one_hot_wt[:23 * i], mutation_at_one_position, one_hot_wt[23*(i+1):]), 0)\n",
        "          \n",
        "          # Getting more samples from the model\n",
        "\n",
        "          a = []\n",
        "          for k in range(iterations):\n",
        "            recon_batch, mu, logvar = model(sequence)\n",
        "            a.append(loss_function(recon_batch, sequence, mu, logvar))\n",
        "          ELBO = np.sum(a) / iterations\n",
        "           \n",
        "          elbo_matrix[i][j] = ELBO\n",
        "\n",
        "          j+=1\n",
        "\n",
        "      i += 1\n",
        "      \n",
        "  #elbo_matrix = elbo_matrix - np.log(elbo_initial_sequence.item())\n",
        "  elbo_matrix = elbo_matrix - elbo_initial_sequence.item()\n",
        "  elbo_matrix = elbo_matrix.mean(1)\n",
        "\n",
        "  exp_data_matrix = np.array(experimental_data[experimental_data.columns]).astype(float)\n",
        "  exp_data_matrix = np.nanmean(exp_data_matrix, 1)\n",
        "\n",
        "  # Spearman calculatation\n",
        "\n",
        "  spearman = stats.spearmanr( exp_data_matrix, elbo_matrix,nan_policy='omit' , axis = 0)\n",
        "  return np.abs(spearman),exp_data_matrix, elbo_matrix\n",
        "\n",
        "def plot_elbo_exp(exp_data_matrix, elbo_matrix, title):\n",
        "  plt.figure()\n",
        "  plt.scatter(exp_data_matrix, elbo_matrix)\n",
        "  plt.title('ELBO vs Experimental Value' + title)\n",
        "  plt.xlabel('Experimental Values')\n",
        "  plt.ylabel('ELBO')\n",
        "  plt.show()"
      ],
      "id": "1d071fed"
    },
    {
      "cell_type": "markdown",
      "metadata": {
        "id": "t9pwYaPqWkcQ"
      },
      "source": [
        "## 4. Sequence Reweighting"
      ],
      "id": "t9pwYaPqWkcQ"
    },
    {
      "cell_type": "code",
      "execution_count": 11,
      "metadata": {
        "colab": {
          "base_uri": "https://localhost:8080/",
          "height": 312
        },
        "id": "rl8TE5CIWq23",
        "outputId": "a54bf673-cdb7-45f2-97dd-9d4d9b1ab255"
      },
      "outputs": [
        {
          "output_type": "display_data",
          "data": {
            "image/png": "[encoded data removed]",
            "text/plain": [
              "<Figure size 432x288 with 1 Axes>"
            ]
          },
          "metadata": {
            "needs_background": "light"
          }
        },
        {
          "output_type": "stream",
          "name": "stdout",
          "text": [
            "[6.60048736e-01 2.79999918e-34]\n"
          ]
        }
      ],
      "source": [
        "# Report the new Graph and Compare the Spearman Values\n",
        "spearman_without_weights, exp_data_matrix, elbo_matrix = compute_spearman(model_no_weights, 1)\n",
        "plot_elbo_exp(exp_data_matrix, elbo_matrix, '(Without Weights)')\n",
        "print(spearman_without_weights)"
      ],
      "id": "rl8TE5CIWq23"
    },
    {
      "cell_type": "code",
      "execution_count": 12,
      "metadata": {
        "colab": {
          "base_uri": "https://localhost:8080/",
          "height": 312
        },
        "id": "vLLv2t3uFTns",
        "outputId": "347aeff7-91b0-43e0-c4e1-75f965f8d434"
      },
      "outputs": [
        {
          "output_type": "display_data",
          "data": {
            "image/png": "[encoded data removed]",
            "text/plain": [
              "<Figure size 432x288 with 1 Axes>"
            ]
          },
          "metadata": {
            "needs_background": "light"
          }
        },
        {
          "output_type": "stream",
          "name": "stdout",
          "text": [
            "[7.63334371e-01 1.90823226e-51]\n"
          ]
        }
      ],
      "source": [
        "spearman_with_weights, exp_data_matrix, elbo_matrix = compute_spearman(model_weights, 1)\n",
        "plot_elbo_exp(exp_data_matrix, elbo_matrix, '(With Weights)')\n",
        "print(spearman_with_weights)\n"
      ],
      "id": "vLLv2t3uFTns"
    },
    {
      "cell_type": "markdown",
      "metadata": {
        "id": "kf3AizvWIm8L"
      },
      "source": [
        ""
      ],
      "id": "kf3AizvWIm8L"
    },
    {
      "cell_type": "markdown",
      "metadata": {
        "id": "-wZlxOpRIXtm"
      },
      "source": [
        "## Part 2. Extension\n"
      ],
      "id": "-wZlxOpRIXtm"
    },
    {
      "cell_type": "markdown",
      "metadata": {
        "id": "mEvN8CgD7HR5"
      },
      "source": [
        "Computing Baseline Model with column independence"
      ],
      "id": "mEvN8CgD7HR5"
    },
    {
      "cell_type": "code",
      "execution_count": 13,
      "metadata": {
        "colab": {
          "base_uri": "https://localhost:8080/"
        },
        "id": "0MkUvbTuIozR",
        "outputId": "c83dc46e-e9b5-4034-a863-6234c1770503"
      },
      "outputs": [
        {
          "output_type": "stream",
          "name": "stdout",
          "text": [
            "           0         1         2         3   ...        19   20   21        22\n",
            "0    0.000000  0.000000  0.000000  0.000000  ...  0.000000  0.0  0.0  0.999873\n",
            "1    0.000000  0.000000  0.000000  0.000000  ...  0.000000  0.0  0.0  0.999873\n",
            "2    0.000000  0.000000  0.000000  0.000127  ...  0.000000  0.0  0.0  0.999873\n",
            "3    0.020653  0.000000  0.000000  0.000000  ...  0.000000  0.0  0.0  0.900561\n",
            "4    0.014661  0.000000  0.017211  0.092682  ...  0.000000  0.0  0.0  0.666624\n",
            "..        ...       ...       ...       ...  ...       ...  ...  ...       ...\n",
            "258  0.188807  0.003187  0.000000  0.000000  ...  0.000000  0.0  0.0  0.125446\n",
            "259  0.127104  0.003060  0.000000  0.000000  ...  0.170831  0.0  0.0  0.225778\n",
            "260  0.000765  0.000000  0.188679  0.054054  ...  0.000000  0.0  0.0  0.707930\n",
            "261  0.001020  0.000382  0.000000  0.001147  ...  0.000637  0.0  0.0  0.893549\n",
            "262  0.000000  0.000000  0.000000  0.000000  ...  0.000000  0.0  0.0  0.928480\n",
            "\n",
            "[263 rows x 23 columns]\n"
          ]
        }
      ],
      "source": [
        "frequencies = np.zeros([263,23])\n",
        "\n",
        "for sequence,_ in dataset_integers:\n",
        "  i = 0\n",
        "  for char in sequence:\n",
        "    frequencies[i][char.item()] += 1\n",
        "    i += 1\n",
        "\n",
        "# The DataFrame shows the relative frequence of the differenct amino acids\n",
        "# at the different positions of the sequence\n",
        "\n",
        "frequencies_df = pd.DataFrame(frequencies/7844)\n",
        "print(frequencies_df)\n"
      ],
      "id": "0MkUvbTuIozR"
    },
    {
      "cell_type": "code",
      "source": [
        "position = 0\n",
        "value = 1\n",
        "for i in range(263):\n",
        "  if frequencies_df[22][i] <= value:\n",
        "    value = frequencies_df[22][i]\n",
        "    position = i\n",
        "\n",
        "print(position)\n",
        "print(value)\n",
        "\n",
        "# Smallest value for 22\n",
        "pos_134= frequencies[60]\n",
        "x = np.arange(0,23,1)\n",
        "print(x)\n",
        "\n",
        "plt.bar(x, pos_134 / 7844, width=0.8)\n",
        "plt.title('relative frequency of acids')\n",
        "plt.xlabel('acids')\n",
        "plt.ylabel('frequency')"
      ],
      "metadata": {
        "colab": {
          "base_uri": "https://localhost:8080/",
          "height": 363
        },
        "id": "5MPE7F0RhH8i",
        "outputId": "3080b41c-22ee-49be-8cf7-263fc55e9e85"
      },
      "id": "5MPE7F0RhH8i",
      "execution_count": 14,
      "outputs": [
        {
          "output_type": "stream",
          "name": "stdout",
          "text": [
            "134\n",
            "0.00025497195308516065\n",
            "[ 0  1  2  3  4  5  6  7  8  9 10 11 12 13 14 15 16 17 18 19 20 21 22]\n"
          ]
        },
        {
          "output_type": "execute_result",
          "data": {
            "text/plain": [
              "Text(0, 0.5, 'frequency')"
            ]
          },
          "metadata": {},
          "execution_count": 14
        },
        {
          "output_type": "display_data",
          "data": {
            "image/png": "[encoded data removed]",
            "text/plain": [
              "<Figure size 432x288 with 1 Axes>"
            ]
          },
          "metadata": {
            "needs_background": "light"
          }
        }
      ]
    },
    {
      "cell_type": "code",
      "execution_count": 15,
      "metadata": {
        "colab": {
          "base_uri": "https://localhost:8080/"
        },
        "id": "xMQy_3h4_CI-",
        "outputId": "c689eb0d-2d3d-49d8-c0bf-745bb0ab6b80"
      },
      "outputs": [
        {
          "output_type": "stream",
          "name": "stdout",
          "text": [
            "SpearmanrResult(correlation=0.5938022679929026, pvalue=1.8815608726821206e-26)\n"
          ]
        }
      ],
      "source": [
        "position = 0\n",
        "simple_mutations = np.zeros([263,23])\n",
        "for char in wt_sequence:\n",
        "  wt_prob = frequencies_df[char.item()][position]\n",
        "  j = 0\n",
        "  if wt_prob == 0:\n",
        "    continue\n",
        "  for mutant_to_prob in frequencies[position]:\n",
        "    simple_mutations[position][j] = mutant_to_prob/wt_prob\n",
        "    j+=1\n",
        "\n",
        "  position +=1\n",
        "    \n",
        "simple_mean = simple_mutations.mean(1)\n",
        "exp_data_matrix = np.array(experimental_data[experimental_data.columns]).astype(float)\n",
        "exp_data_matrix = np.nanmean(exp_data_matrix, 1)\n",
        "spearman_simple = stats.spearmanr( exp_data_matrix, simple_mean,nan_policy='omit' , axis = 0)\n",
        "print(spearman_simple)"
      ],
      "id": "xMQy_3h4_CI-"
    },
    {
      "cell_type": "markdown",
      "metadata": {
        "id": "hbbx6uOMpNet"
      },
      "source": [
        "Importance Sampling\n"
      ],
      "id": "hbbx6uOMpNet"
    },
    {
      "cell_type": "markdown",
      "metadata": {
        "id": "peofydptpRLo"
      },
      "source": [
        ""
      ],
      "id": "peofydptpRLo"
    },
    {
      "cell_type": "code",
      "execution_count": null,
      "metadata": {
        "id": "lYgOTduupRW0"
      },
      "outputs": [],
      "source": [
        "# Own implementation of the variational autoencoder : \n",
        "\n",
        "torch.manual_seed(1)\n",
        "cuda2 = False\n",
        "device = torch.device(\"cuda\" if cuda2 else \"cpu\")\n",
        "kwargs = {'num_workers': 1, 'pin_memory': True} if cuda2 else {}\n",
        "\n",
        "epochs2 = 10 # About 20 is sufficent\n",
        "\n",
        "# Define VAE model\n",
        "class VAE(nn.Module):\n",
        "    def __init__(self):\n",
        "        super(VAE, self).__init__()\n",
        "        # Since we use one-hot-encoding, the input dimension is 23 * 263 = 6049\n",
        "        self.fc1 = nn.Linear(6049, 400)\n",
        "        self.fc1a = nn.Linear(400, 100)\n",
        "        self.fc21 = nn.Linear(100, 2) # 20 -> 2\n",
        "        self.fc22 = nn.Linear(100, 2) # 20 -> 2\n",
        "        self.fc3 = nn.Linear(2, 100) # 20 -> 2\n",
        "        self.fc3a = nn.Linear(100, 400)\n",
        "        self.fc4 = nn.Linear(400, 6049)\n",
        "\n",
        "    def encode(self, x):\n",
        "        h1 = F.relu(self.fc1(x))\n",
        "        h2 = F.relu(self.fc1a(h1))\n",
        "        # Using torch.distributions\n",
        "        return torch.distributions.normal.Normal(loc = self.fc21(h2), scale = torch.exp(0.5*self.fc22(h2)))\n",
        "\n",
        "    def decode(self, z):\n",
        "        h3 = F.relu(self.fc3(z))\n",
        "        h4 = F.relu(self.fc3a(h3))\n",
        "        return torch.sigmoid(self.fc4(h4))\n",
        "\n",
        "    def forward(self, x):\n",
        "        gauss = self.encode(x.view(-1, 6049))\n",
        "        # We sample z from the latent space using a Gaussian distribution\n",
        "        z = gauss.rsample()\n",
        "        return self.decode(z), gauss.mean, gauss.stddev\n",
        "\n",
        "\n",
        "model = VAE().to(device)\n",
        "optimizer = optim.Adam(model.parameters(), lr=1e-3)\n",
        "\n",
        "def loss_function(recon_x, x, mu, logvar):\n",
        "    K = 10\n",
        "    \n",
        "    p_z = torch.distributions.normal.Normal(loc = mu, scale = torch.exp(logvar))\n",
        "    zs = p_z.rsample(torch.tensor([K]))\n",
        "    x_hat = model.decode(zs)\n",
        "    \n",
        "    BCE = torch.zeros(K)\n",
        "    for ii in range(K):\n",
        "        BCE[ii] = F.binary_cross_entropy(x_hat[ii], x.view(-1, 6049), reduction='sum')\n",
        "    KLD = -0.5 * torch.sum(1 + logvar - mu.pow(2) - logvar.exp())\n",
        "    ELBOs = BCE + KLD\n",
        "    #following steps are to avoid computations of large exponenets\n",
        "    max_elbo = max(ELBOs)\n",
        "    ELBOs = torch.sub(ELBOs, max_elbo)\n",
        "    ELBOs_exp = torch.exp(ELBOs)\n",
        "    return torch.log( torch.sum(ELBOs_exp) / K ) + max_elbo\n",
        "\n",
        "def train(epoch,model, weights_bool):\n",
        "    model.train()\n",
        "    train_loss = 0\n",
        "    if weights_bool:\n",
        "      dataloader = dataloader_with_weights\n",
        "    else:\n",
        "      dataloader = dataloader_no_weights\n",
        "    \n",
        "    for batch_idx, (data, _) in enumerate(dataloader):\n",
        "        data = data.to(device)\n",
        "        optimizer.zero_grad()\n",
        "        recon_batch, mu, logvar = model(data)\n",
        "        loss = loss_function(recon_batch, data, mu, logvar)\n",
        "        loss.backward()\n",
        "        train_loss += loss.item()\n",
        "        optimizer.step()\n",
        "    print('====> Epoch: {} Average loss: {:.4f}'.format(\n",
        "          epoch, train_loss / len(dataloader.dataset)))"
      ],
      "id": "lYgOTduupRW0"
    },
    {
      "cell_type": "code",
      "execution_count": null,
      "metadata": {
        "colab": {
          "background_save": true,
          "base_uri": "https://localhost:8080/"
        },
        "id": "eLMfLHZfpyIZ",
        "outputId": "fbdd83c4-abb1-4e57-fc4d-8d41c307c4af"
      },
      "outputs": [
        {
          "name": "stdout",
          "output_type": "stream",
          "text": [
            "====> Epoch: 1 Average loss: 739.1283\n",
            "====> Epoch: 2 Average loss: 606.3397\n",
            "====> Epoch: 3 Average loss: 592.6350\n",
            "====> Epoch: 4 Average loss: 582.3386\n",
            "====> Epoch: 5 Average loss: 578.6185\n",
            "====> Epoch: 6 Average loss: 574.4918\n",
            "====> Epoch: 7 Average loss: 575.3787\n",
            "====> Epoch: 8 Average loss: 568.5975\n",
            "====> Epoch: 9 Average loss: 570.6408\n",
            "====> Epoch: 10 Average loss: 566.2219\n"
          ]
        }
      ],
      "source": [
        "for epoch in range(1, epochs2 + 1):\n",
        "    train(epoch, model, True)"
      ],
      "id": "eLMfLHZfpyIZ"
    },
    {
      "cell_type": "code",
      "execution_count": null,
      "metadata": {
        "colab": {
          "background_save": true
        },
        "id": "lOTgJrWOqpup",
        "outputId": "8ea6a25d-cae5-42c0-9e33-b5e0db92a4a6"
      },
      "outputs": [
        {
          "name": "stdout",
          "output_type": "stream",
          "text": [
            "[-66.67067553 -66.17789625 -67.52190897 -55.97536303 -74.2749103\n",
            " -73.36501412 -65.85272748 -58.36743164 -62.56640625 -65.89916196\n",
            " -63.4568163  -58.39111859 -64.31898565 -62.63643746 -62.58280878\n",
            " -60.98024584 -58.07381008 -59.92167066 -62.84995701 -55.34925643\n",
            " -61.6059358  -67.78053615 -63.62608271 -63.68671981 -61.47322945\n",
            " -62.77317744 -64.44690738 -62.5327573  -60.84765094 -65.9484306\n",
            " -63.88028087 -63.50610882 -63.20241912 -62.7149844  -61.56625234\n",
            " -59.82878046 -65.57296886 -64.63827117 -61.035549   -57.73166026\n",
            " -53.53171705 -59.71805473 -60.00680144 -63.4662794  -50.18015986\n",
            " -50.63522206 -55.1713708  -51.63263205 -57.90436056 -56.80145264\n",
            " -57.76062808 -53.94006348 -59.92740797 -61.98093315 -60.60288139\n",
            " -53.98208485 -63.30595332 -62.27444856 -59.00766655 -62.17504087\n",
            " -60.75088103 -62.03812309 -63.38276473 -64.58780836 -63.87855065\n",
            " -59.4114141  -62.18482772 -61.50363557 -62.96829622 -58.86341128\n",
            " -65.46698794 -60.40352199 -65.68851106 -64.49864396 -64.72406537\n",
            " -62.04118015 -60.54349418 -57.59054963 -66.10474164 -56.55674677\n",
            " -60.57045049 -53.28273873 -58.46904721 -56.52146049 -61.74389648\n",
            " -60.40403681 -65.45798393 -63.87998631 -65.46372389 -64.09884511\n",
            " -63.27524202 -56.37895667 -58.92752739 -60.90626061 -66.08956511\n",
            " -60.18403426 -55.52197    -54.81050442 -63.97735596 -57.50076957\n",
            " -58.02369756 -60.00141708 -58.80466627 -61.47582742 -49.97293489\n",
            " -47.58791716 -49.96675442 -59.82328995 -52.58350936 -60.06105904\n",
            " -53.41214653 -59.06444251 -57.55510944 -59.31528108 -63.90865425\n",
            " -65.59648862 -58.78103505 -57.57533065 -52.62043563 -58.2838639\n",
            " -62.11890975 -64.69931959 -55.31238854 -57.84967306 -60.58450185\n",
            " -58.69508694 -61.67857294 -66.35201894 -65.7303281  -64.46730108\n",
            " -58.58718474 -57.33980129 -66.17053223 -61.68013598 -57.08298128\n",
            " -57.53284222 -58.36943784 -55.06038765 -59.29136857 -62.51088018\n",
            " -56.99146569 -61.56914752 -59.76346489 -56.85861339 -58.77967635\n",
            " -58.73754352 -60.05546238 -63.57659381 -62.24505084 -67.02805494\n",
            " -57.52234152 -61.54187277 -60.04178785 -51.46137005 -53.19541334\n",
            " -51.89294434 -64.51350204 -54.86489205 -63.68877643 -59.21962838\n",
            " -57.17017132 -61.2523618  -63.76942776 -61.19434655 -59.08134129\n",
            " -62.44022801 -62.67774234 -52.59296716 -59.96871285 -64.40121327\n",
            " -59.28797714 -66.6206612  -66.61364481 -57.12309464 -64.48908267\n",
            " -65.06946597 -63.49058732 -62.62101945 -59.23701013 -61.01735256\n",
            " -62.53819739 -53.62167491 -63.07243015 -62.04322085 -58.05533766\n",
            " -55.20695164 -66.05585778 -61.3518491  -61.62442149 -63.42479142\n",
            " -61.17450482 -63.74748164 -62.59424093 -64.23847232 -59.21903925\n",
            " -56.33689283 -56.64628269 -63.00178594 -64.12305749 -59.61965544\n",
            " -55.77794879 -60.70958411 -62.19226074 -54.22924539 -63.1071565\n",
            " -57.31580386 -58.84005605 -53.8127123  -56.87245775 -60.57564379\n",
            " -45.7179645  -60.2774154  -55.96543287 -65.45328953 -65.12705927\n",
            " -59.07627272 -60.5678764  -59.23352316 -60.28883163 -59.21816619\n",
            " -59.71046514 -55.08609407 -60.97890572 -60.61130955 -64.79586925\n",
            " -61.2191056  -61.21463145 -63.02841054 -61.89247994 -60.34494151\n",
            " -66.98952318 -62.04452913 -59.45922586 -56.37019414 -57.33727497\n",
            " -57.47119671 -56.90822435 -62.20388396 -59.45809538 -61.4782078\n",
            " -65.22857666 -65.61661165 -60.2350915  -63.74697478 -63.73479694\n",
            " -60.31633991 -60.72381326 -58.93088432 -60.68358579 -63.82525635\n",
            " -67.60283362 -57.51674752 -61.45271633 -60.14437468 -58.60143512\n",
            " -56.89058519 -65.23146389 -62.5363053  -55.7284997  -61.18078879\n",
            " -57.64761485 -57.80750839 -52.83062479]\n"
          ]
        },
        {
          "data": {
            "image/png": "[encoded data removed]",
            "text/plain": [
              "<Figure size 432x288 with 1 Axes>"
            ]
          },
          "metadata": {},
          "output_type": "display_data"
        },
        {
          "name": "stdout",
          "output_type": "stream",
          "text": [
            "[7.36229593e-01 3.66051258e-46]\n"
          ]
        }
      ],
      "source": [
        "spearman_with_weights_importance, exp_data_matrix, elbo_matrix = compute_spearman(model)\n",
        "plot_elbo_exp(exp_data_matrix, elbo_matrix, '(With Weights and Importance)')\n",
        "print(spearman_with_weights_importance)"
      ],
      "id": "lOTgJrWOqpup"
    }
  ],
  "metadata": {
    "colab": {
      "collapsed_sections": [],
      "name": "Almost.ipynb",
      "provenance": []
    },
    "kernelspec": {
      "display_name": "Python 3 (ipykernel)",
      "language": "python",
      "name": "python3"
    },
    "language_info": {
      "codemirror_mode": {
        "name": "ipython",
        "version": 3
      },
      "file_extension": ".py",
      "mimetype": "text/x-python",
      "name": "python",
      "nbconvert_exporter": "python",
      "pygments_lexer": "ipython3",
      "version": "3.8.3"
    }
  },
  "nbformat": 4,
  "nbformat_minor": 5
}